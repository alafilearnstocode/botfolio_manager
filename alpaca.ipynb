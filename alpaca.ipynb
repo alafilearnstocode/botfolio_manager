{
 "cells": [
  {
   "cell_type": "code",
   "execution_count": 3,
   "metadata": {},
   "outputs": [],
   "source": [
    "import alpaca_trade_api as tradeapi\n",
    "\n",
    "key = \"PKOQXZDWPZSX6ZSCTSGD\" \n",
    "secret_key = \"gkckhhciRb3ZsZHuOVqZ2uZJrBjQuTCyjho9rFGt\"\n",
    "BASE_URL = \"https://paper-api.alpaca.markets/v2\"\n",
    "\n",
    "api = tradeapi.REST(key, secret_key, BASE_URL, api_version='v2')\n",
    "\n"
   ]
  },
  {
   "cell_type": "code",
   "execution_count": 7,
   "metadata": {},
   "outputs": [
    {
     "data": {
      "text/plain": [
       "{'price': 285.17}"
      ]
     },
     "execution_count": 7,
     "metadata": {},
     "output_type": "execute_result"
    }
   ],
   "source": [
    "def get_data(sym):\n",
    "    try:\n",
    "        barset = api.get_latest_trade(sym)\n",
    "        return {\"price\": barset.price}\n",
    "    except Exception as e:\n",
    "        return {\"price\": -1}\n",
    "    \n",
    "get_data(\"TSLA\")"
   ]
  }
 ],
 "metadata": {
  "kernelspec": {
   "display_name": "Python 3",
   "language": "python",
   "name": "python3"
  },
  "language_info": {
   "codemirror_mode": {
    "name": "ipython",
    "version": 3
   },
   "file_extension": ".py",
   "mimetype": "text/x-python",
   "name": "python",
   "nbconvert_exporter": "python",
   "pygments_lexer": "ipython3",
   "version": "3.13.1"
  }
 },
 "nbformat": 4,
 "nbformat_minor": 2
}
